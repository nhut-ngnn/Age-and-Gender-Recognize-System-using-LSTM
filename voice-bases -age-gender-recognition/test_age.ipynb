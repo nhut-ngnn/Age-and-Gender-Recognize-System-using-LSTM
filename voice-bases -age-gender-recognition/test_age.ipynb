{
 "cells": [
  {
   "cell_type": "code",
   "execution_count": 1,
   "metadata": {},
   "outputs": [],
   "source": [
    "import matplotlib as plt\n",
    "import tensorflow as tf\n",
    "from tensorflow import keras\n",
    "from file_io import features_from_file, labels_from_file, add_history\n",
    "from utils import labels_to_categorical, transpose_vector, get_count, get_mean_stddev, normalize_data,norm_multiple\n",
    "import numpy as np\n",
    "from sklearn.metrics import confusion_matrix, accuracy_score, classification_report\n",
    "from sklearn.model_selection import train_test_split\n",
    "import seaborn as sns\n"
   ]
  },
  {
   "cell_type": "code",
   "execution_count": 2,
   "metadata": {},
   "outputs": [
    {
     "name": "stdout",
     "output_type": "stream",
     "text": [
      "[WinError 2] The system cannot find the file specified: 'C:/Users/admin/Documents/AgeDetection/voice-bases-age-age-classification/'\n",
      "c:\\Users\\admin\\Documents\\AgeDetection\\voice-bases-age-gender-classification\n"
     ]
    },
    {
     "name": "stderr",
     "output_type": "stream",
     "text": [
      "C:\\Users\\admin\\AppData\\Roaming\\Python\\Python311\\site-packages\\IPython\\core\\magics\\osm.py:393: UserWarning: using bookmarks requires you to install the `pickleshare` library.\n",
      "  bkms = self.shell.db.get('bookmarks', {})\n"
     ]
    }
   ],
   "source": [
    "%cd \"C:/Users/admin/Documents/AgeDetection/voice-bases-age-age-classification/\""
   ]
  },
  {
   "cell_type": "code",
   "execution_count": 3,
   "metadata": {},
   "outputs": [],
   "source": [
    "age_model = tf.keras.models.load_model(\"model/lstm_age_41/lstm_age_41_60.keras\")\n",
    "gender_model = tf.keras.models.load_model(\"model/lstm_gender_41/lstm_gender_41_30.keras\")"
   ]
  },
  {
   "cell_type": "code",
   "execution_count": 4,
   "metadata": {},
   "outputs": [],
   "source": [
    "age_means = \"model\\lstm_age_41\\means_age_41.npy\"\n",
    "age_std_dev = \"model\\lstm_age_41\\stddev_age_41.npy\""
   ]
  },
  {
   "cell_type": "code",
   "execution_count": 5,
   "metadata": {},
   "outputs": [],
   "source": [
    "input_test_file_gender = \"age_data_clean_2/age_in\"\n",
    "output_test_file_gender = \"age_data_clean_2/age_out\"\n",
    "input_test = features_from_file(input_test_file_gender, 41)\n",
    "input_test = transpose_vector(input_test)\n",
    "output_test = labels_from_file(output_test_file_gender)\n",
    "output_test = labels_to_categorical(output_test)\n",
    "\n",
    "X_age_test = input_test\n",
    "Y_age_test = output_test"
   ]
  },
  {
   "cell_type": "code",
   "execution_count": 6,
   "metadata": {},
   "outputs": [],
   "source": [
    "means, std_dev = get_mean_stddev(X_age_test)\n",
    "X_age_test = normalize_data(X_age_test, means, std_dev)"
   ]
  },
  {
   "cell_type": "code",
   "execution_count": 7,
   "metadata": {},
   "outputs": [
    {
     "name": "stdout",
     "output_type": "stream",
     "text": [
      "\u001b[1m16/16\u001b[0m \u001b[32m━━━━━━━━━━━━━━━━━━━━\u001b[0m\u001b[37m\u001b[0m \u001b[1m1s\u001b[0m 39ms/step\n"
     ]
    }
   ],
   "source": [
    "y_pred = age_model.predict(X_age_test)"
   ]
  },
  {
   "cell_type": "code",
   "execution_count": 8,
   "metadata": {},
   "outputs": [
    {
     "data": {
      "text/plain": [
       "array([[0., 0., 0., 0., 1.],\n",
       "       [0., 0., 0., 0., 1.],\n",
       "       [0., 0., 0., 0., 0.],\n",
       "       ...,\n",
       "       [1., 0., 0., 0., 0.],\n",
       "       [1., 0., 0., 0., 0.],\n",
       "       [1., 0., 0., 0., 0.]], dtype=float32)"
      ]
     },
     "execution_count": 8,
     "metadata": {},
     "output_type": "execute_result"
    }
   ],
   "source": [
    "y_pred = np.around(y_pred, decimals=0)\n",
    "y_pred"
   ]
  },
  {
   "cell_type": "code",
   "execution_count": 9,
   "metadata": {},
   "outputs": [
    {
     "data": {
      "text/plain": [
       "array([5., 5., 5., 5., 5., 5., 5., 5., 5., 5., 5., 5., 5., 5., 5., 5., 3.,\n",
       "       3., 3., 3., 3., 3., 3., 3., 3., 3., 3., 3., 3., 3., 3., 3., 3., 5.,\n",
       "       5., 5., 5., 5., 5., 5., 5., 5., 5., 5., 5., 5., 5., 5., 5., 5., 5.,\n",
       "       5., 5., 5., 5., 5., 5., 5., 5., 5., 5., 5., 5., 5., 5., 5., 5., 5.,\n",
       "       5., 5., 5., 5., 5., 5., 3., 3., 3., 3., 3., 3., 3., 3., 3., 3., 3.,\n",
       "       3., 3., 3., 3., 5., 5., 5., 5., 5., 5., 5., 5., 5., 5., 5., 5., 5.,\n",
       "       5., 5., 5., 5., 5., 5., 5., 5., 5., 5., 5., 5., 5., 5., 5., 3., 3.,\n",
       "       3., 3., 3., 3., 3., 3., 3., 3., 5., 5., 5., 5., 5., 5., 5., 5., 5.,\n",
       "       5., 5., 5., 5., 5., 5., 3., 3., 3., 3., 3., 3., 3., 3., 3., 3., 3.,\n",
       "       3., 3., 3., 3., 3., 2., 2., 2., 2., 2., 2., 2., 2., 2., 2., 2., 2.,\n",
       "       2., 2., 2., 2., 2., 2., 2., 2., 2., 2., 2., 2., 2., 2., 2., 2., 2.,\n",
       "       2., 2., 2., 2., 2., 2., 2., 2., 2., 2., 2., 2., 2., 2., 2., 4., 4.,\n",
       "       4., 4., 4., 4., 4., 4., 4., 4., 4., 4., 4., 4., 4., 4., 4., 4., 4.,\n",
       "       4., 4., 4., 4., 4., 4., 4., 4., 4., 4., 4., 4., 1., 1., 1., 1., 1.,\n",
       "       1., 1., 1., 1., 1., 1., 3., 3., 3., 3., 3., 3., 3., 3., 3., 3., 3.,\n",
       "       3., 3., 3., 3., 3., 3., 3., 3., 3., 3., 3., 3., 3., 3., 3., 3., 3.,\n",
       "       3., 3., 3., 3., 3., 3., 3., 3., 3., 3., 3., 1., 1., 1., 1., 1., 1.,\n",
       "       1., 1., 1., 1., 1., 1., 1., 1., 1., 1., 1., 1., 1., 1., 1., 1., 1.,\n",
       "       1., 1., 1., 4., 4., 4., 4., 4., 4., 2., 2., 2., 2., 2., 2., 2., 2.,\n",
       "       2., 2., 2., 2., 2., 2., 2., 2., 2., 2., 2., 2., 2., 2., 2., 2., 2.,\n",
       "       2., 2., 2., 2., 2., 2., 2., 2., 2., 2., 2., 3., 3., 3., 2., 2., 2.,\n",
       "       2., 2., 4., 4., 4., 4., 4., 4., 4., 1., 1., 1., 2., 2., 2., 2., 2.,\n",
       "       2., 1., 1., 1., 1., 1., 4., 2., 2., 2., 2., 2., 2., 1., 1., 1., 1.,\n",
       "       1., 1., 1., 1., 1., 1., 1., 1., 1., 1., 1., 1., 1., 1., 1., 1., 1.,\n",
       "       1., 1., 1., 1., 1., 1., 1., 1., 1., 1., 1., 1., 1., 1., 1., 1., 4.,\n",
       "       4., 4., 4., 4., 4., 4., 4., 4., 4., 4., 4., 4., 4., 4., 4., 4., 4.,\n",
       "       4., 4., 4., 4., 4., 4., 4., 1., 1., 1., 1., 1., 1., 4., 4., 4., 4.,\n",
       "       4., 4., 4., 4., 4., 4., 4., 4., 4., 4., 4., 4., 4., 4., 4., 4., 4.,\n",
       "       4., 4., 4., 4., 4., 4., 2., 2., 2., 4., 4., 4., 1., 1., 1., 1., 1.,\n",
       "       1., 1., 1., 1., 1., 1., 1.])"
      ]
     },
     "execution_count": 9,
     "metadata": {},
     "output_type": "execute_result"
    }
   ],
   "source": [
    "current_matrix = np.array([[1],[2],[3],[4],[5]])\n",
    "Y_age_test_class = Y_age_test @ current_matrix\n",
    "Y_age_test_class = Y_age_test_class[:,0].T\n",
    "Y_age_test_class"
   ]
  },
  {
   "cell_type": "code",
   "execution_count": 10,
   "metadata": {},
   "outputs": [
    {
     "data": {
      "text/plain": [
       "array([5., 5., 0., 5., 2., 0., 5., 5., 0., 3., 0., 0., 5., 0., 1., 0., 3.,\n",
       "       3., 0., 3., 3., 3., 3., 3., 3., 3., 3., 3., 3., 3., 3., 3., 3., 3.,\n",
       "       3., 0., 0., 0., 4., 0., 5., 5., 5., 0., 5., 0., 0., 5., 5., 5., 0.,\n",
       "       2., 5., 2., 1., 1., 1., 1., 1., 1., 1., 0., 1., 4., 4., 2., 4., 5.,\n",
       "       2., 4., 3., 2., 2., 2., 3., 5., 5., 3., 3., 0., 0., 3., 3., 3., 3.,\n",
       "       3., 3., 0., 3., 0., 5., 0., 0., 0., 0., 0., 2., 3., 3., 5., 5., 5.,\n",
       "       5., 3., 3., 0., 3., 3., 3., 3., 5., 0., 2., 2., 5., 5., 0., 0., 0.,\n",
       "       5., 3., 5., 0., 3., 5., 0., 5., 0., 0., 0., 0., 3., 5., 0., 3., 0.,\n",
       "       5., 2., 0., 5., 0., 0., 0., 3., 3., 0., 3., 5., 3., 1., 3., 3., 3.,\n",
       "       3., 3., 3., 3., 3., 0., 2., 2., 0., 1., 2., 2., 2., 2., 2., 2., 2.,\n",
       "       2., 2., 2., 1., 0., 2., 2., 2., 2., 2., 2., 2., 2., 2., 2., 2., 2.,\n",
       "       2., 2., 2., 2., 2., 2., 2., 0., 2., 2., 2., 2., 2., 2., 2., 4., 4.,\n",
       "       4., 4., 4., 4., 4., 4., 4., 4., 0., 4., 4., 4., 4., 0., 4., 4., 4.,\n",
       "       4., 0., 4., 0., 4., 4., 0., 4., 1., 4., 0., 4., 1., 1., 0., 1., 1.,\n",
       "       1., 1., 0., 1., 1., 1., 3., 3., 3., 3., 3., 0., 3., 3., 3., 3., 0.,\n",
       "       3., 3., 3., 0., 3., 0., 4., 4., 3., 3., 5., 3., 3., 0., 3., 0., 3.,\n",
       "       0., 3., 3., 0., 3., 3., 3., 3., 3., 3., 3., 1., 0., 1., 1., 1., 1.,\n",
       "       1., 1., 1., 1., 4., 0., 1., 1., 1., 1., 1., 1., 1., 1., 1., 1., 1.,\n",
       "       1., 1., 1., 4., 4., 4., 4., 0., 4., 2., 2., 0., 2., 0., 2., 2., 2.,\n",
       "       2., 2., 2., 2., 2., 2., 2., 1., 2., 2., 2., 0., 3., 2., 2., 2., 2.,\n",
       "       2., 2., 2., 2., 2., 0., 2., 0., 2., 2., 2., 3., 3., 3., 2., 2., 2.,\n",
       "       2., 2., 4., 4., 4., 4., 4., 4., 4., 1., 1., 1., 2., 2., 2., 2., 2.,\n",
       "       2., 1., 1., 1., 1., 1., 4., 2., 2., 2., 2., 2., 2., 1., 1., 1., 1.,\n",
       "       1., 1., 1., 0., 1., 1., 1., 1., 0., 1., 2., 1., 1., 1., 1., 1., 1.,\n",
       "       1., 1., 1., 1., 1., 1., 1., 1., 1., 1., 1., 1., 1., 1., 1., 0., 4.,\n",
       "       4., 4., 4., 4., 4., 4., 4., 4., 4., 4., 4., 4., 4., 4., 4., 4., 4.,\n",
       "       4., 4., 4., 4., 4., 4., 4., 1., 0., 1., 1., 1., 1., 4., 4., 4., 4.,\n",
       "       4., 4., 4., 4., 4., 4., 4., 4., 4., 4., 4., 4., 4., 4., 4., 4., 4.,\n",
       "       4., 4., 4., 4., 4., 4., 2., 2., 2., 0., 4., 4., 1., 1., 1., 1., 1.,\n",
       "       1., 1., 0., 1., 1., 1., 1.])"
      ]
     },
     "execution_count": 10,
     "metadata": {},
     "output_type": "execute_result"
    }
   ],
   "source": [
    "y_pred_class = y_pred @ current_matrix\n",
    "y_pred_class = y_pred_class[:,0].T\n",
    "y_pred_class"
   ]
  },
  {
   "cell_type": "code",
   "execution_count": 12,
   "metadata": {},
   "outputs": [
    {
     "name": "stdout",
     "output_type": "stream",
     "text": [
      "Score of prediction: 0.728\n"
     ]
    },
    {
     "name": "stderr",
     "output_type": "stream",
     "text": [
      "C:\\Users\\admin\\AppData\\Local\\Temp\\ipykernel_142744\\685249243.py:3: RuntimeWarning: invalid value encountered in divide\n",
      "  norm_conf_matrix = conf_matrix / row_sums[:, np.newaxis]\n"
     ]
    }
   ],
   "source": [
    "conf_matrix = confusion_matrix(Y_age_test_class, y_pred_class)\n",
    "row_sums = conf_matrix.sum(axis=1)\n",
    "norm_conf_matrix = conf_matrix / row_sums[:, np.newaxis]\n",
    "acc_score = accuracy_score(Y_age_test_class, y_pred_class)\n",
    "print(\"Score of prediction:\", acc_score)"
   ]
  },
  {
   "cell_type": "code",
   "execution_count": 16,
   "metadata": {},
   "outputs": [],
   "source": [
    "labels = [\"unknown\", \"fifties_sixties\",\"fourties\", \"teens\",\n",
    "    \"thirties\", \"twenties\"]\n"
   ]
  },
  {
   "cell_type": "code",
   "execution_count": 17,
   "metadata": {},
   "outputs": [
    {
     "data": {
      "text/plain": [
       "<Axes: >"
      ]
     },
     "execution_count": 17,
     "metadata": {},
     "output_type": "execute_result"
    },
    {
     "data": {
      "image/png": "[encoded data removed]",
      "text/plain": [
       "<Figure size 640x480 with 2 Axes>"
      ]
     },
     "metadata": {},
     "output_type": "display_data"
    }
   ],
   "source": [
    "sns.heatmap(conf_matrix, annot=True, fmt=\"d\", cmap=\"Blues\", xticklabels=labels, yticklabels=labels)\n"
   ]
  },
  {
   "cell_type": "code",
   "execution_count": null,
   "metadata": {},
   "outputs": [],
   "source": []
  }
 ],
 "metadata": {
  "kernelspec": {
   "display_name": "Python 3",
   "language": "python",
   "name": "python3"
  },
  "language_info": {
   "codemirror_mode": {
    "name": "ipython",
    "version": 3
   },
   "file_extension": ".py",
   "mimetype": "text/x-python",
   "name": "python",
   "nbconvert_exporter": "python",
   "pygments_lexer": "ipython3",
   "version": "3.11.7"
  }
 },
 "nbformat": 4,
 "nbformat_minor": 2
}
